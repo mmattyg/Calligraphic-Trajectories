{
  "nbformat": 4,
  "nbformat_minor": 0,
  "metadata": {
    "colab": {
      "name": "Generating Calligraphic Trajectories with Model Predictive Control (MPC)",
      "provenance": []
    },
    "kernelspec": {
      "name": "python3",
      "display_name": "Python 3"
    }
  },
  "cells": [
    {
      "cell_type": "code",
      "metadata": {
        "id": "ti-c__MNBlSO",
        "colab_type": "code",
        "colab": {},
        "cellView": "form"
      },
      "source": [
        "#@title setup\n",
        "%matplotlib inline\n",
        "import numpy as np\n",
        "import scipy as sp\n",
        "from scipy.linalg import sqrtm, expm\n",
        "import sympy as sym\n",
        "import matplotlib.pyplot as plt\n",
        "import _pickle as cPickle\n",
        "import os\n",
        "\n",
        "# https://tonysyu.github.io/raw_content/matplotlib-style-gallery/gallery.html\n",
        "plt.style.use('fivethirtyeight') #fivethirtyeight') #seaborn-poster') #seaborn-poster')\n",
        "# More customiztions here:\n",
        "# http://matplotlib.org/users/customizing.html\n",
        "# Other customizations\n",
        "import matplotlib as mpl\n",
        "label_size = 12\n",
        "mpl.rcParams['xtick.labelsize'] = label_size \n",
        "mpl.rcParams['ytick.labelsize'] = label_size \n",
        "mpl.rcParams['axes.titlesize'] = 'medium'\n",
        "mpl.rcParams['axes.labelsize'] = 12 #u'large' # 12 #'medium'\n",
        "mpl.rcParams['mathtext.fontset'] = 'cm'\n",
        "mpl.rcParams['font.size']  = 12\n",
        "\n",
        "# Default 2d plot setup\n",
        "def plt_setup(axis=True):\n",
        "    # save it for later\n",
        "    plt.axis('equal')\n",
        "    if not axis:\n",
        "        plt.axis('off')\n",
        "    plt.gca().invert_yaxis()\n",
        "\n",
        "def load_pkl(data_path):\n",
        "    with open(os.path.expanduser(data_path), \"rb\") as f:\n",
        "        raw_data = cPickle.load(f)\n",
        "    return raw_data\n",
        "\n",
        "# Some utilities hidden for space considerations\n",
        "def latex(v, name=''):\n",
        "    s = '$$' + name + '='\n",
        "    if v.ndim == 3:\n",
        "        n = v.shape[2]\n",
        "        s += '\\\\left['\n",
        "        for i in range(n):\n",
        "            s += sym.latex(sym.Matrix(v[:,:,i]))\n",
        "            if i < n-1:\n",
        "                s += ','\n",
        "        s += '\\\\right]'\n",
        "    else:\n",
        "        s += sym.latex(sym.Matrix(v))\n",
        "    s += '$$'\n",
        "    return s\n",
        "\n",
        "def plot_gauss(Mu, Sigma, color=[0.,0.7,1.],alpha=0.5,linewidth=1,markersize=6, scale=1., colors=[]):\n",
        "    ''' Adapted from pyPBDlib This function displays the parameters of a Gaussian Mixture Model (GMM).\n",
        "\n",
        "     Inputs -----------------------------------------------------------------\n",
        "       o  Mu: D x K array representing the centers of K Gaussians.\n",
        "       o Sigma: D x D x K array representing the covariance matrices of K Gaussians.\n",
        "\n",
        "     Author:    Martijn Zeestraten, 2015\n",
        "             http://programming-by-demonstration.org/martijnzeestraten\n",
        "\n",
        "             Note- Daniel Berio, switched matrix layout to be consistent with pbdlib matlab,\n",
        "                   probably breaks with gmm now.\n",
        "    '''\n",
        "    if (Mu.ndim ==1):\n",
        "        nbVar    = Mu.shape[0]\n",
        "        nbStates = 1\n",
        "        # Fix size of arrays:\n",
        "        Mu = Mu.reshape(1,nbVar)\n",
        "        Sigma = Sigma.reshape(1,nbVar,nbVar)\n",
        "    else:\n",
        "        nbStates = Mu.shape[1]  \n",
        "        nbVar    = Mu.shape[0]\n",
        "\n",
        "    nbDrawingSeg = 35;    \n",
        "    t = np.linspace(-np.pi, np.pi, nbDrawingSeg);    \n",
        "                                                                                               \n",
        "    if not colors:\n",
        "        colors=[color for i in range(nbStates)]\n",
        "\n",
        "    for i in range(0,nbStates):\n",
        "        # Create Polygon\n",
        "        R = np.real(sqrtm(scale*Sigma[:,:,i]))\n",
        "        points = R.dot(np.array([[np.cos(t)], [np.sin(t)]]).reshape([2,nbDrawingSeg])) + Mu[:,i].reshape([2,1])\n",
        "        polygon = plt.Polygon(points.transpose().tolist(),facecolor=colors[i],alpha=alpha,linewidth=linewidth)\n",
        "                                                                                                   \n",
        "        # Set properties\n",
        "        #polygon.set_alpha(0.3)\n",
        "        #polygon.set_color(color)        \n",
        "                                                                                                                                                                           \n",
        "        plt.gca().add_patch(polygon)                     # Patch\n",
        "        l,= plt.plot(Mu[0,i], Mu[1,i], '.', color=colors[i])    # Mean\n",
        "        plt.plot(points[0,:], points[1,:], color=colors[i], linewidth=linewidth, alpha=alpha*2., markersize=markersize) # Contour\n",
        "    \n",
        "    return l\n",
        "\n",
        "def deriv(X, dt, n=1):\n",
        "    ''' Does not return same size array,\n",
        "    but works better for high order derivs.'''\n",
        "    ''' n'th order derivative '''\n",
        "    Dx = X\n",
        "    for i in range(n):\n",
        "        Dx = np.diff(Dx, axis=1)/dt \n",
        "    return Dx\n",
        "\n",
        "def norm(X):\n",
        "    if X.ndim < 2:\n",
        "        return np.linalg.norm(X)\n",
        "    return np.sqrt(np.sum(X**2, axis=0))\n",
        "\n",
        "# multiply multiple matrices, still ugly but better than nested np.dot's\n",
        "mul = lambda mats: reduce(np.dot, mats)\n",
        "\n",
        "# Configuration\n",
        "cfg = lambda: None\n",
        "cfg.fig_w = 7\n",
        "cfg.fig_h = 5\n",
        "cfg.figsize = (cfg.fig_w, cfg.fig_h)\n",
        "cfg.plan_color = [0.5, 0.5, 0.5]\n",
        "\n",
        "#%%"
      ],
      "execution_count": 3,
      "outputs": []
    },
    {
      "cell_type": "code",
      "metadata": {
        "id": "AHY8vCi7DM51",
        "colab_type": "code",
        "colab": {
          "base_uri": "https://localhost:8080/",
          "height": 71
        },
        "cellView": "form",
        "outputId": "d39fbef9-dc3f-44aa-f732-0eb8269df67f"
      },
      "source": [
        "#@title Dynamic sytem\n",
        "import numpy as np\n",
        "\n",
        "class DynSys:\n",
        "    def __init__(self, order, dt=0.01, dim=2):\n",
        "        self.order = order\n",
        "        self.dim = dim\n",
        "        self.dt = dt\n",
        "\n",
        "        ## construct system matrices\n",
        "        # continuous single\n",
        "        A = np.zeros((order,order))\n",
        "        A[0:order-1, 1:order] = np.eye(order-1)\n",
        "        B = np.zeros((order,1))\n",
        "        B[-1,:] = 1.\n",
        "\n",
        "        # Euler discretization\n",
        "        A = np.eye(A.shape[0]) + A * dt\n",
        "        B = B * dt\n",
        "\n",
        "        # Multiple output\n",
        "        # Add dimensions\n",
        "        A = np.kron(A, np.eye(dim))\n",
        "        B = np.kron(B, np.eye(dim) )\n",
        "\n",
        "        # Sensor matrix (assuming only position is observed) \n",
        "        # Actually unused here and directly setting unobserved Q entries to 0 weight\n",
        "        C = np.kron( np.hstack([np.ones((1,1)), np.zeros((1, order-1))]),\n",
        "                    np.eye(dim))\n",
        "        \n",
        "        self.A, self.B, self.C = A, B, C\n",
        "        \n",
        "    def y(self, x):\n",
        "        ''' y = Cx'''\n",
        "        return np.dot(self.C, x)\n",
        "    \n",
        "    def num_timesteps(self, duration):\n",
        "        return int(duration/self.dt)\n",
        "\n",
        "    def matrices(self):\n",
        "        return self.A, self.B\n",
        "\n",
        "sys = DynSys(2)\n",
        "latex(sys.A,'\\\\bm{A}'), latex(sys.B, '\\\\bm{B}'), latex(sys.C,'\\\\bm{C}') # show latex\n"
      ],
      "execution_count": 6,
      "outputs": [
        {
          "output_type": "execute_result",
          "data": {
            "text/plain": [
              "('$$\\\\bm{A}=\\\\left[\\\\begin{matrix}1.0 & 0.0 & 0.01 & 0.0\\\\\\\\0.0 & 1.0 & 0.0 & 0.01\\\\\\\\0.0 & 0.0 & 1.0 & 0.0\\\\\\\\0.0 & 0.0 & 0.0 & 1.0\\\\end{matrix}\\\\right]$$',\n",
              " '$$\\\\bm{B}=\\\\left[\\\\begin{matrix}0.0 & 0.0\\\\\\\\0.0 & 0.0\\\\\\\\0.01 & 0.0\\\\\\\\0.0 & 0.01\\\\end{matrix}\\\\right]$$',\n",
              " '$$\\\\bm{C}=\\\\left[\\\\begin{matrix}1.0 & 0.0 & 0.0 & 0.0\\\\\\\\0.0 & 1.0 & 0.0 & 0.0\\\\end{matrix}\\\\right]$$')"
            ]
          },
          "metadata": {
            "tags": []
          },
          "execution_count": 6
        }
      ]
    },
    {
      "cell_type": "code",
      "metadata": {
        "id": "SI--C5AJDUT0",
        "colab_type": "code",
        "colab": {},
        "cellView": "form"
      },
      "source": [
        "#@title batch solution\n",
        "def batch_mpc(sys, MuQ, Q, r, compute_covariance=False):\n",
        "    A, B = sys.matrices()\n",
        "    order, dim = sys.order, sys.dim\n",
        "    \n",
        "    n = MuQ.shape[1]\n",
        "    cDim = order*dim\n",
        "    \n",
        "    # Scaling helps avoiding numerical issues in lest squares estimation\n",
        "    maxv = np.max(Mu)\n",
        "    scale = 1e-6 / maxv \n",
        "    scale2 = scale*scale\n",
        "    MuQ = MuQ * scale\n",
        "    # scale weights (quadratic)\n",
        "    r = r / scale2\n",
        "    # here we skip the derivative terms (diagonal) of the last block of Q\n",
        "    # since we will set it to enforce a zero end condition\n",
        "    Q[:-cDim+dim,:-cDim+dim] = Q[:-cDim+dim,:-cDim+dim] / scale2\n",
        "\n",
        "    # stack Mu's into one large vector\n",
        "    Xi_hat = np.reshape(MuQ.T, (MuQ.shape[0]*MuQ.shape[1], 1)) \n",
        "\n",
        "    # Control cost matrix\n",
        "    R = np.kron( np.eye(n-1),\n",
        "                np.eye(dim) * r )\n",
        "\n",
        "    # Sx and Su matrices for batch LQR\n",
        "    Su = np.zeros((cDim*n, dim*(n-1)))\n",
        "    Sx = np.kron( np.ones((n,1)),\n",
        "                  np.eye(dim*order) )\n",
        "    M = np.array(B)\n",
        "    for i in range(1, n):\n",
        "        Sx[ i*cDim:n*cDim, : ] = mul( [Sx[ i*cDim:n*cDim, : ], A] )        \n",
        "        Su[ i*cDim:(i+1)*cDim, 0:i*dim ] = M \n",
        "        M = np.hstack([ mul([A, M[:, 0:dim]]), M ])\n",
        "\n",
        "    # Initial condition given by first mean\n",
        "    x0 = MuQ[:,0].reshape(-1,1)\n",
        "\n",
        "    # Damped least squares estimate\n",
        "    SuInvSigmaQ = mul([Su.T, Q])\n",
        "\n",
        "    Rq = mul([SuInvSigmaQ, Su]) + R\n",
        "    rq = mul([SuInvSigmaQ, Xi_hat - mul([Sx, x0]) ] )\n",
        "\n",
        "    # damped least squares solution\n",
        "    u = np.linalg.solve(Rq,rq)\n",
        "    x = np.reshape( mul([Sx, x0]) + mul([Su, u]), (n, cDim)).T\n",
        "    u = np.reshape( u, (n-1, dim) ).T\n",
        "    \n",
        "    # unscale\n",
        "    x = x/scale\n",
        "    u = u/scale\n",
        "\n",
        "    if compute_covariance:\n",
        "        Cov = mul([Su, inv(Rq), Su.T]) / scale2\n",
        "        # Need to check this, also feel that directly specifying sigma is more intuitive\n",
        "        mse = 1. # (np.abs( mul([Xi_hat.T, Q, Xi_hat]) - mul([rq.T, inv(Rq), rq]) )[0] / (sys.dim*MuQ.shape[1]))  \n",
        "        return x, Cov, mse\n",
        "    \n",
        "    return x"
      ],
      "execution_count": 8,
      "outputs": []
    },
    {
      "cell_type": "code",
      "metadata": {
        "id": "J4cXrE8YDYkc",
        "colab_type": "code",
        "colab": {},
        "cellView": "form"
      },
      "source": [
        "#@title Iterative (Riccati) implementation, less efficient\n",
        "from numpy.linalg import inv, pinv\n",
        "\n",
        "# This implementation of the augmented iterative version is for demonstration purposes\n",
        "# (as described in the paper).\n",
        "# A much more efficient solution is to augment the covariances before the whole weight \n",
        "# vector Q is created, which will not require the double matrix inversions (see aug_q sub-function).\n",
        "def iterative_mpc_augmented(sys, MuQ, Q, r):\n",
        "    A, B = sys.matrices()\n",
        "    order, dim = sys.order, sys.dim\n",
        "    \n",
        "    n = MuQ.shape[1]\n",
        "    \n",
        "    cDim = order*dim\n",
        "    \n",
        "    Xi_hat = MuQ \n",
        "    Xi_aug = np.vstack([Xi_hat, np.ones(n)])\n",
        "    pinv = np.linalg.pinv\n",
        "\n",
        "    def aug_q(i):\n",
        "        Qi = Q[i*cDim:(i+1)*cDim, i*cDim:(i+1)*cDim]\n",
        "        Xi_i = Xi_hat[:,i].reshape(-1,1)\n",
        "        return pinv(np.vstack([ np.hstack([pinv(Qi) + mul([Xi_i, Xi_i.T]), Xi_i]),\n",
        "                             np.hstack([Xi_i.T, np.eye(1)]) ]))\n",
        "    # augment system matrices\n",
        "    A_ = A\n",
        "    A = np.eye(cDim+1)\n",
        "    A[:cDim, :cDim] = A_\n",
        "    B = np.vstack([B, np.zeros(dim)])\n",
        "\n",
        "    # Control cost matrix\n",
        "    R = np.eye(dim) * r\n",
        "\n",
        "    P = np.zeros((cDim+1, cDim+1, n))\n",
        "    i = n-1\n",
        "    P[ :, :, -1] = aug_q(i) \n",
        "    \n",
        "    d = np.zeros((cDim, n))\n",
        "    # Riccati recursion\n",
        "    pinv = np.linalg.pinv\n",
        "    for i in range(n-2, 0, -1):\n",
        "        Qi = aug_q(i)         \n",
        "        P[:,:,i] = Qi - mul([ A.T, \n",
        "                            mul([ P[:,:,i+1], B, inv( mul([ B.T, P[:,:,i+1], B ]) + R), \n",
        "                                  B.T, \n",
        "                                  P[:,:,i+1] ]) - P[:,:,i+1], A])\n",
        "    \n",
        "    # Initial condition given by first mean\n",
        "    x0 = Xi_aug[:,0].reshape(-1,1)\n",
        "\n",
        "    x = np.zeros((cDim+1, n))\n",
        "    u = np.zeros((dim, n))\n",
        "\n",
        "    x_t = x0[:,0]\n",
        "\n",
        "    for i in range(n):\n",
        "        x[:,i] = x_t\n",
        "        p = P[:, :, i]\n",
        "        mu = Xi_aug[:, i]\n",
        "        \n",
        "        G = mul([ pinv( mul([B.T, p, B]) + R ), B.T ])\n",
        "        # feedback gain\n",
        "        K = mul([ G, p, A ])\n",
        "        # Control command (highest order derivative of system)\n",
        "        #u[:,i] = mul([ K, mu - x_t ]) + M\n",
        "        u[:,i] = mul([-K, x_t])\n",
        "        # New state\n",
        "        x_t = mul([A, x_t]) + mul([B, u[:,i]])\n",
        "\n",
        "    return x[0:cDim,:]\n",
        "\n",
        "def iterative_mpc(sys, MuQ, Q, r):\n",
        "    A, B = sys.matrices()\n",
        "    order, dim = sys.order, sys.dim\n",
        "\n",
        "    n = MuQ.shape[1]\n",
        "    cDim = order*dim\n",
        "\n",
        "    Xi_hat = MuQ \n",
        "    Xi_aug = np.vstack([Xi_hat, np.ones(n)])\n",
        " \n",
        "    # Control cost matrix\n",
        "    R = np.eye(dim) * r\n",
        "\n",
        "    P = np.zeros((cDim, cDim, n))\n",
        "    i = n-1\n",
        "    P[ :, :, -1] = Q[i*cDim:, i*cDim:]\n",
        "    \n",
        "    d = np.zeros((cDim, n))\n",
        "    # Riccati recursion\n",
        "    pinv = np.linalg.pinv\n",
        "    for i in range(n-2, 0, -1):\n",
        "        # Not so fun to write this with NumPy\n",
        "        Qi = Q[i*cDim:(i+1)*cDim, i*cDim:(i+1)*cDim]\n",
        "        \n",
        "        P[:,:,i] = Qi - mul([ A.T, \n",
        "                            mul([ P[:,:,i+1], B, inv( mul([ B.T, P[:,:,i+1], B ]) + R), \n",
        "                                  B.T, \n",
        "                                  P[:,:,i+1] ]) - P[:,:,i+1], A])\n",
        "        \n",
        "        d[:,i] = ( mul([ A.T - mul([ A.T, P[:,:,i+1], B, inv(R + mul([ B.T, P[:,:,i+1], B ]) ), B.T ]), \n",
        "                       mul([ P[:,:,i+1], mul([ A, Xi_hat[:, i] ]) - Xi_hat[:, i+1] ]) + d[:,i+1]]) )\n",
        "        \n",
        "    # Initial condition given by first mean\n",
        "    x0 = MuQ[:,0].reshape(-1,1)\n",
        "\n",
        "    x = np.zeros((cDim, n))\n",
        "    u = np.zeros((dim, n))\n",
        "\n",
        "    x_t = x0[:,0]\n",
        "\n",
        "    for i in range(n):\n",
        "        x[:,i] = x_t\n",
        "        p = P[:, :, i]\n",
        "        mu = Xi_hat[:, i]\n",
        "        \n",
        "        G = mul([ pinv( mul([B.T, p, B]) + R ), B.T ])\n",
        "        \n",
        "        # feedback gain\n",
        "        K = mul([ G, p, A ])\n",
        "        # Feedforward term\n",
        "        M = mul([ -G, mul([p, mul([A, mu]) - mu]) + d[:,i] ])\n",
        "        # Control command (highest order derivative of system)\n",
        "        u[:,i] = mul([ K, mu - x_t ]) + M\n",
        "        # New state\n",
        "        x_t = mul([A, x_t]) + mul([B, u[:,i]])\n",
        "\n",
        "    return x"
      ],
      "execution_count": 9,
      "outputs": []
    },
    {
      "cell_type": "code",
      "metadata": {
        "id": "BgJT_UO8F-sK",
        "colab_type": "code",
        "colab": {
          "base_uri": "https://localhost:8080/",
          "height": 60
        },
        "cellView": "form",
        "outputId": "7a10d6a3-2cf2-41f6-8d11-98001f760376"
      },
      "source": [
        "#@title reference trajectories\n",
        "def stepwise(m, n):\n",
        "    T = range(n)\n",
        "    I = np.linspace(0, float(m)-0.1, n).astype(int)\n",
        "    return I, T\n",
        "\n",
        "# For 30 time steps and 3 via points:\n",
        "Ts = np.ones(30).astype(int)\n",
        "I, T = stepwise(3, 30)\n",
        "Ts[T] = I\n",
        "\n",
        "plt.figure(figsize=(14,0.5))\n",
        "plt.gca().pcolormesh([[ t if t >= 0 else '.' for t in Ts]], cmap='spring', edgecolor='k')\n",
        "for i, t in enumerate(Ts):\n",
        "    plt.text(0.4 + i, 0.5,str(t))\n",
        "plt.axis('off')\n",
        "plt.show()"
      ],
      "execution_count": 10,
      "outputs": [
        {
          "output_type": "display_data",
          "data": {
            "image/png": "[encoded data removed]",
            "text/plain": [
              "<Figure size 1008x36 with 1 Axes>"
            ]
          },
          "metadata": {
            "tags": []
          }
        }
      ]
    },
    {
      "cell_type": "markdown",
      "metadata": {
        "id": "_jXcA_tpGhgh",
        "colab_type": "text"
      },
      "source": [
        "This will allow us to control the trajectory evolution through the manipulation of the covariances of each Gaussian. The tracking reference and weight matrices (in terms of precision) for the whole trajectory are then computed with"
      ]
    },
    {
      "cell_type": "code",
      "metadata": {
        "id": "un4Ywz0xGY8E",
        "colab_type": "code",
        "colab": {},
        "cellView": "form"
      },
      "source": [
        "#@title make reference\n",
        "def make_reference(Mu, Sigma, n, sys, reference=stepwise, end_weight = 1e10):\n",
        "    ''' Make reference and state cost matrices'''\n",
        "    order, dim = sys.order, sys.dim\n",
        "    cDim = order*dim\n",
        "    muDim = Mu.shape[0]\n",
        "    m = Mu.shape[1]\n",
        "    \n",
        "    # precision matrices\n",
        "    Lambda = np.zeros((muDim, m*muDim))\n",
        "    for i in range(m):\n",
        "        Lambda[:,i*muDim:muDim*(i+1)] = np.linalg.inv(Sigma[:,:,i])\n",
        "\n",
        "    Q = np.zeros((cDim*n, cDim*n)) # Precision matrix\n",
        "    MuQ = np.zeros((cDim, n))\n",
        "\n",
        "    I, T = reference(m, n) # Get reference indices\n",
        "    for i, t in zip(I, T):\n",
        "        Q[ t*cDim:t*cDim+muDim, t*cDim:t*cDim+muDim] = Lambda[:,i*muDim:(i+1)*muDim] \n",
        "        MuQ[:muDim, t] = Mu[:,i]\n",
        "\n",
        "    # end indices (forces movement to a stop with higher order systems)\n",
        "    ind = T[-1]\n",
        "    if end_weight > 0.0: # and muDim <= dim:\n",
        "        for i in range(muDim, cDim):\n",
        "            Q[ind*cDim+i, ind*cDim+i] = end_weight\n",
        "    return MuQ, Q"
      ],
      "execution_count": 11,
      "outputs": []
    },
    {
      "cell_type": "markdown",
      "metadata": {
        "id": "OEs598OMHENN",
        "colab_type": "text"
      },
      "source": [
        "Load a pickle sequence of \\(5\\) Gaussians for the letter \"M\""
      ]
    },
    {
      "cell_type": "code",
      "metadata": {
        "id": "TxPzdUn6Gq1G",
        "colab_type": "code",
        "colab": {}
      },
      "source": [
        "import matplotlib.pyplot as plt\n",
        "\n",
        "def load_gauss(path, scale=1.): \n",
        "    Mu, Sigma = load_pkl(path)\n",
        "    Mu *= scale\n",
        "    Sigma *= scale**2\n",
        "    return Mu, Sigma\n",
        "\n",
        "Mu, Sigma = load_gauss('./m_1.pkl', scale=0.01) \n",
        "\n",
        "# Plot it\n",
        "plt.figure()\n",
        "plot_gauss(Mu, Sigma)\n",
        "plt.plot(Mu[0,:], Mu[1,:], ':', color=cfg.plan_color, linewidth=1.)\n",
        "#plt.plot(Mu[0,:], Mu[1,:], 'ro')\n",
        "plt_setup()\n",
        "plt.show()\n",
        "\n",
        "#%%"
      ],
      "execution_count": null,
      "outputs": []
    },
    {
      "cell_type": "markdown",
      "metadata": {
        "id": "l1W6kRqsHbCc",
        "colab_type": "text"
      },
      "source": [
        "Generate trajectory to track the gaussians:"
      ]
    },
    {
      "cell_type": "code",
      "metadata": {
        "id": "gsdB4iduHhsq",
        "colab_type": "code",
        "colab": {}
      },
      "source": [
        "order = 4\n",
        "duration = Mu.shape[1]*0.2 # 0.2 seconds per state\n",
        "sys = DynSys(order, dt=0.005)\n",
        "n = sys.num_timesteps(duration)\n",
        "endw = 1e10\n",
        "r = 1e-10 # Regularisation \n",
        "MuQ, Q = make_reference(Mu, Sigma, n, sys, reference=stepwise, end_weight=1e10) \n",
        "x = iterative_mpc(sys, MuQ, Q, r=r)\n",
        "y = sys.y(x)\n",
        "\n",
        "# plot it\n",
        "plt.figure(figsize=cfg.figsize)\n",
        "plot_gauss(Mu, Sigma)\n",
        "plt.plot(Mu[0,:], Mu[1,:], ':', color=cfg.plan_color, linewidth=1.)\n",
        "plt.plot(y[0,:], y[1,:], 'k')\n",
        "plt_setup()\n",
        "plt.show()"
      ],
      "execution_count": null,
      "outputs": []
    },
    {
      "cell_type": "markdown",
      "metadata": {
        "id": "Dlo1QSvlHuxK",
        "colab_type": "text"
      },
      "source": [
        "We can see the smoothing effect of the regularisation parameter \\(r\\) by increasing its value"
      ]
    },
    {
      "cell_type": "code",
      "metadata": {
        "id": "G4p8tcodHt72",
        "colab_type": "code",
        "colab": {}
      },
      "source": [
        "plt.figure(figsize=cfg.figsize)\n",
        "#plot_gauss(Mu, Sigma)\n",
        "#plt.plot(Mu[0,:], Mu[1,:], ':', color=cfg.plan_color, linewidth=1.)\n",
        "\n",
        "for r in [1e-10, 5e-10, 10e-10]: #, 15e-10]: #np.linspace(1e-10, 1e-13, 5):\n",
        "    x = iterative_mpc(sys, MuQ, Q, r=r)\n",
        "    y = sys.y(x)\n",
        "    plt.plot(y[0,:], y[1,:], label='$r=' + str(r) + '$')\n",
        "plt_setup()\n",
        "plt.legend()\n",
        "plt.show()"
      ],
      "execution_count": null,
      "outputs": []
    },
    {
      "cell_type": "markdown",
      "metadata": {
        "id": "1v2pZMuHH_Bz",
        "colab_type": "text"
      },
      "source": [
        "On the other hand, the behavior of this parameter will vary greatly across different system orders, which may be impractical for experimentation purposes."
      ]
    },
    {
      "cell_type": "code",
      "metadata": {
        "id": "vvvzI7-PIDQb",
        "colab_type": "code",
        "colab": {}
      },
      "source": [
        "plt.figure(figsize=cfg.figsize)\n",
        "\n",
        "r = 1e-9\n",
        "plot_gauss(Mu, Sigma)\n",
        "for order in range(2, 6):\n",
        "    sys = DynSys(order, dt=0.005)\n",
        "    MuQ, Q = make_reference(Mu, Sigma, n, sys, reference=stepwise, end_weight=1e10) #1e-15) #0.)\n",
        "    x = iterative_mpc(sys, MuQ, Q, r=r)\n",
        "    y = sys.y(x)\n",
        "    plt.plot(y[0,:], y[1,:], label='order = $' + str(order) + '$')\n",
        "plt.legend()\n",
        "\n",
        "plt_setup()\n",
        "plt.savefig('r_scaling.pdf')\n",
        "plt.show()"
      ],
      "execution_count": null,
      "outputs": []
    },
    {
      "cell_type": "markdown",
      "metadata": {
        "id": "546d1nRCIGWU",
        "colab_type": "text"
      },
      "source": [
        "We can improve on this by specifying the regularisation through a maximum displacement parameter \\(d\\), which is can be computed based on the the low frequency gain of the system, where the frequency is chosen to be the period of an oscillatory motion between two targets. This can be computed with"
      ]
    },
    {
      "cell_type": "code",
      "metadata": {
        "id": "hAFUk78OIMmD",
        "colab_type": "code",
        "colab": {}
      },
      "source": [
        "def SHM_r(d, order, duration, m):\n",
        "    ''' simple harmonic motion based scale factor,\n",
        "        computes the control cost r in terms of maximum allowed displacement'''\n",
        "    period = (duration/(m-1))\n",
        "    omega = (2. * np.pi) / period\n",
        "    return 1. / ((d * omega**order)**2)"
      ],
      "execution_count": 15,
      "outputs": []
    },
    {
      "cell_type": "markdown",
      "metadata": {
        "id": "8ArsrZdxIRT5",
        "colab_type": "text"
      },
      "source": [
        "and produces results that are more consistent across orders, and thus easier to control.\n",
        "Note that in this case, **decreasing** the parameter \\(d\\) produces a smoothing effect on the trajectory."
      ]
    },
    {
      "cell_type": "code",
      "metadata": {
        "id": "ydtpX_QzIUtK",
        "colab_type": "code",
        "colab": {}
      },
      "source": [
        "plt.figure(figsize=cfg.figsize)\n",
        "d = 0.15\n",
        "plot_gauss(Mu, Sigma)\n",
        "for order in range(2, 6):\n",
        "    sys = DynSys(order, dt=0.005)\n",
        "    n = sys.num_timesteps(duration)\n",
        "    MuQ, Q = make_reference(Mu, Sigma, n, sys, reference=stepwise, end_weight=1e10) #1e-15) #0.)\n",
        "    r = SHM_r(d, order, duration, Mu.shape[1])\n",
        "    x = iterative_mpc(sys, MuQ, Q, r=r)\n",
        "    y = sys.y(x)\n",
        "    plt.plot(y[0,:], y[1,:], label='order = $' + str(order) + '$')\n",
        "plt.legend()\n",
        "\n",
        "plt_setup()\n",
        "plt.savefig('d_scaling.pdf')\n",
        "plt.show()"
      ],
      "execution_count": null,
      "outputs": []
    },
    {
      "cell_type": "markdown",
      "metadata": {
        "id": "3dl_wxbrIko9",
        "colab_type": "text"
      },
      "source": [
        "# Stochastic sampling"
      ]
    },
    {
      "cell_type": "code",
      "metadata": {
        "id": "gMTVJ7IYIpfk",
        "colab_type": "code",
        "colab": {}
      },
      "source": [
        "from scipy.linalg import eigh\n",
        "\n",
        "def largest_eigs(X, k):\n",
        "    ''' Return k eigencomponents with decreasing eigenvalues'''\n",
        "    N = X.shape[0]\n",
        "    return eigh(X, eigvals=(N-k,N-1))\n",
        "\n",
        "def stochastic_sample(x, Cov, mse, n_samples, n_eigs, sig=1.):\n",
        "    ''' Generate samples from the trajectory distribution'''\n",
        "    samps = []\n",
        "    D, V  =  largest_eigs(Cov, n_eigs) \n",
        "    D = np.real(np.diag(D))\n",
        "    V = np.real(V)\n",
        "    for i in range(n_samples):\n",
        "         sigma =  np.sqrt(mse)*sig\n",
        "         o = np.random.randn(n_eigs, 1)*sigma\n",
        "         offset =  mul([ V, D**.5, o ])\n",
        "         O = np.reshape( offset, (x.shape[1], x.shape[0])).T\n",
        "         samp = x + O\n",
        "         samps.append(samp)\n",
        "\n",
        "    return samps"
      ],
      "execution_count": 17,
      "outputs": []
    },
    {
      "cell_type": "markdown",
      "metadata": {
        "id": "jt_L-0iOIyZT",
        "colab_type": "text"
      },
      "source": [
        "stochastically sample this distribution in order to generate a possibly infinite number of variations over the mean trajectory."
      ]
    },
    {
      "cell_type": "code",
      "metadata": {
        "id": "QpcOHobOI2JD",
        "colab_type": "code",
        "colab": {}
      },
      "source": [
        "import random\n",
        "np.random.seed(2311)\n",
        "order = 5\n",
        "\n",
        "duration = Mu.shape[1]*0.2\n",
        "sys = DynSys(order, dt=0.01)\n",
        "n = sys.num_timesteps(duration)\n",
        "MuQ, Q = make_reference(Mu, Sigma, n, sys, reference=stepwise, end_weight=1e10)\n",
        "r = SHM_r(d, order, duration, Mu.shape[1])\n",
        "x, Cov, mse = batch_mpc(sys, MuQ, Q, r=r, compute_covariance=True)\n",
        "\n",
        "samps = stochastic_sample(x, Cov, mse, 40, 7, sig=2.5)\n",
        "samps = [sys.y(samp) for samp in samps]\n",
        "#x = iterative_mpc(sys, MuQ, Q, r=r)\n",
        "\n",
        "y = sys.y(x)\n",
        "\n",
        "# time \n",
        "T = np.linspace(0, duration, n)\n",
        "cfg.plan_color = [0.5, 0.5, 0.5]\n",
        "plt.figure(figsize=(cfg.fig_w*2.0, cfg.fig_h*0.7))\n",
        "plt.subplot(1, 2, 1)\n",
        "#plt.title('Trajectory samples')\n",
        "plot_gauss(Mu, Sigma) # Note this function def is hidden for saving space\n",
        "#plt.plot(Mu[0,:], Mu[1,:], ':', color=cfg.plan_color)\n",
        "np.random.seed(32)\n",
        "rand_grey = lambda: np.ones(3) * np.random.uniform(0.1, 0.9)\n",
        "for s in samps:\n",
        "    plt.plot(s[0,:], s[1,:], 'm', label='samples', linewidth=0.2, color=rand_grey() )\n",
        "plt.plot(y[0,:], y[1,:], 'k', label='mean trajectory')\n",
        "plt_setup()\n",
        "#plt.legend()\n",
        "\n",
        "plt.subplot(1, 2, 2)\n",
        "#plt.title('Speed')\n",
        "np.random.seed(32)\n",
        "for s in samps:\n",
        "    S = norm(deriv(s*100, sys.dt, 1))\n",
        "    plt.plot(np.linspace(0, duration, S.size), S, 'm', linewidth=0.2, color=rand_grey())\n",
        "S = norm(deriv(y*100, sys.dt, 1))\n",
        "plt.plot(np.linspace(0, duration, S.size), S, 'k')\n",
        "plt.gca().set_xlabel('$t$')\n",
        "plt.gca().set_ylabel(r'$\\left\\| \\dot{x} \\right\\|$')\n",
        "plt.savefig('stochastic_n.pdf')\n",
        "plt.show()"
      ],
      "execution_count": null,
      "outputs": []
    },
    {
      "cell_type": "markdown",
      "metadata": {
        "id": "c7uPpLopJDMg",
        "colab_type": "text"
      },
      "source": [
        "And plot some random samples"
      ]
    },
    {
      "cell_type": "code",
      "metadata": {
        "id": "fsNHab8ZJKBy",
        "colab_type": "code",
        "colab": {}
      },
      "source": [
        "nrows = 2\n",
        "ncols = 5\n",
        "n_samps = nrows*ncols\n",
        "figw = 1.6\n",
        "plt.figure(figsize=(figw*n_samps, 0.3*figw*n_samps))\n",
        "random.seed(72)\n",
        "random.seed(911972)\n",
        "\n",
        "for i in range(n_samps):\n",
        "    plt.subplot(nrows, ncols, i+1)\n",
        "    s = random.choice(samps)\n",
        "    plt.plot(s[0,:], s[1,:], 'k')\n",
        "    plt_setup(False)\n",
        "plt.savefig('stochastic_n_samples.pdf')\n",
        "plt.show()"
      ],
      "execution_count": null,
      "outputs": []
    },
    {
      "cell_type": "markdown",
      "metadata": {
        "id": "XGOyrXUkJWiy",
        "colab_type": "text"
      },
      "source": [
        "## Bezier curve approximation\n",
        "Gaussians with isotropic covariance can be used for computing approximations of Bezier curves [4].\n",
        "Lets first define some code to load Bezier paths from a SVG file, using the svgpathtools package."
      ]
    },
    {
      "cell_type": "code",
      "metadata": {
        "id": "MJQ8l04lJd1q",
        "colab_type": "code",
        "colab": {
          "base_uri": "https://localhost:8080/",
          "height": 179
        },
        "outputId": "7640594f-8f25-454c-a84b-963c10f55abf"
      },
      "source": [
        "!pip install svgpathtools\n",
        "import svgpathtools as svg\n",
        "\n",
        "def to_pt(c):\n",
        "    ''' convert complex number to np vector'''\n",
        "    return np.array([c.real, c.imag])\n",
        "    \n",
        "def to_bezier(piece):\n",
        "    ''' convert a line or Bezier segment to control points'''\n",
        "    one3d = 1./3\n",
        "    if type(piece)==svg.path.Line:\n",
        "        a, b = to_pt(piece.start), to_pt(piece.end)\n",
        "        return [a, a+(b-a)*one3d, b+(a-b)*one3d, b]\n",
        "    elif type(piece)==svg.path.CubicBezier:\n",
        "        return [to_pt(piece.start),\n",
        "                to_pt(piece.control1),\n",
        "                to_pt(piece.control2),\n",
        "                to_pt(piece.end)]\n",
        "    raise ValueError\n",
        "\n",
        "def path_to_bezier(path):\n",
        "    ''' convert SVG path to a Bezier control points'''\n",
        "    pieces = [to_bezier(piece) for piece in path]\n",
        "    bezier = [pieces[0][0]] + sum([piece[1:] for piece in pieces],[]) \n",
        "    return np.vstack(bezier).T\n",
        "\n",
        "def svg_to_beziers(path):\n",
        "    ''' Load Bezier curves from a SVG file'''\n",
        "    paths, attributes = svg.svg2paths(path) \n",
        "    beziers = [path_to_bezier(path) for path in paths]\n",
        "    return beziers"
      ],
      "execution_count": 21,
      "outputs": [
        {
          "output_type": "stream",
          "text": [
            "Collecting svgpathtools\n",
            "\u001b[?25l  Downloading https://files.pythonhosted.org/packages/71/96/cc91050f3b53c2cea0eda18f371d0584e7f43713ce606738384e8001a877/svgpathtools-1.3.3-py2.py3-none-any.whl (50kB)\n",
            "\u001b[K     |████████████████████████████████| 51kB 2.1MB/s \n",
            "\u001b[?25hCollecting svgwrite\n",
            "\u001b[?25l  Downloading https://files.pythonhosted.org/packages/1c/85/1dc25b36c3ac4f3fe285d33065fc0f2ea7bdfb9209d6369e01a3e8ef6252/svgwrite-1.4-py3-none-any.whl (66kB)\n",
            "\u001b[K     |████████████████████████████████| 71kB 3.6MB/s \n",
            "\u001b[?25hRequirement already satisfied: numpy in /usr/local/lib/python3.6/dist-packages (from svgpathtools) (1.18.5)\n",
            "Installing collected packages: svgwrite, svgpathtools\n",
            "Successfully installed svgpathtools-1.3.3 svgwrite-1.4\n"
          ],
          "name": "stdout"
        }
      ]
    },
    {
      "cell_type": "markdown",
      "metadata": {
        "id": "8PcuqXERJr-Z",
        "colab_type": "text"
      },
      "source": [
        "And some code to sample a piecewise Bezier curve for plotting.\n",
        "\n"
      ]
    },
    {
      "cell_type": "code",
      "metadata": {
        "id": "lXeMmmrRJvyD",
        "colab_type": "code",
        "colab": {}
      },
      "source": [
        "def num_control_points(n_bezier):\n",
        "    return 1 + 3*n_bezier\n",
        "\n",
        "def num_bezier(n_ctrl):\n",
        "    return int((n_ctrl - 1) / 3)\n",
        "\n",
        "def num_targets(n_ctrl):\n",
        "    return num_bezier(n_ctrl)-1\n",
        "\n",
        "def bezier_piecewise(Cp, subd=1000):\n",
        "    ''' sample a piecewise Bezier curve given a sequence of control points'''\n",
        "    num = num_bezier(Cp.shape[1]) \n",
        "    X = []\n",
        "    for i in range(num):\n",
        "        P = Cp[:,i*3:i*3+4].T\n",
        "        t = np.linspace(0, 1., subd)[:-1].reshape(-1,1)\n",
        "        t = np.hstack([t, t])\n",
        "        Y = (1.0-t)**3 * P[0] + 3*(1.0-t)**2 * t * P[1] + 3*(1.0-t)* t**2 * P[2] + t**3 * P[3]\n",
        "        X += [Y.T] \n",
        "    X = np.hstack(X)\n",
        "    return X\n",
        "\n",
        "def plot_control_polygon(Cp):\n",
        "    n_bezier = num_bezier(Cp.shape[1])\n",
        "    for i in range(n_bezier):\n",
        "        cp = cp = Cp[:,i*3:i*3+4]\n",
        "        plt.plot(cp[0,0:2], cp[1,0:2], ':', color=cfg.plan_color, linewidth=1.)\n",
        "        plt.plot(cp[0,2:], cp[1,2:], ':', color=cfg.plan_color, linewidth=1.)\n",
        "        plt.plot(cp[0,:], cp[1,:], 'o', color=[0, 0.5, 1.])\n",
        "\n",
        "Cp = svg_to_beziers('./a.svg')[0]\n",
        "yb = bezier_piecewise(Cp)\n",
        "\n",
        "plt.figure(figsize=cfg.figsize)\n",
        "plot_control_polygon(Cp)\n",
        "plt.plot(yb[0,:], yb[1,:], 'k')\n",
        "plt_setup()\n",
        "plt.show()"
      ],
      "execution_count": null,
      "outputs": []
    },
    {
      "cell_type": "markdown",
      "metadata": {
        "id": "xAUyoi05J478",
        "colab_type": "text"
      },
      "source": [
        "It turns out that we can closely imitate the Bezier curve, using MPC and a stepwise reference with isotropic Gaussians. To achieve a similar curve, it is necessary to adjust some parameters, such as the maximum displacement \\(d\\) and the relative variance of the Gaussians corresponding with internal control points.\n",
        "\n",
        "This formulation can be useful to interactively edit a trajectory with an interface similar to the one offered by Bezier curves, while guaranteeing a smooth trajectory regardless of the positioning of control points. While this approach may not be ideal for a design oriented application, where a high precision is desirable, it can come handy for applications that require the simulation of a hand-drawn trace, where trajectory smoothness is more important."
      ]
    },
    {
      "cell_type": "code",
      "metadata": {
        "id": "IwbKArQrKLss",
        "colab_type": "code",
        "colab": {}
      },
      "source": [
        "def mpc_bezier_stepwise(Cp, order, ctrl_ratio, max_d, dt=0.005):\n",
        "    ''' Mimic a Bezier curve with isotropic Gaussians and a stepwise tracking reference''' \n",
        "    sys = DynSys(order, dt=dt)\n",
        "\n",
        "    m = Cp.shape[1]\n",
        "    \n",
        "    T = 0.25 * m #1.0*num_bezier(m)\n",
        "    n = int(T / sys.dt)\n",
        "\n",
        "    Mu = np.zeros((2,m))\n",
        "    Sigma = np.zeros((2,2,m))\n",
        "\n",
        "    for i in range(num_bezier(m)):\n",
        "        \n",
        "        p1,p2,p3,p4 = [Cp[:,j+i*3] for j in range(4)]\n",
        "        \n",
        "        d = (p1 - p2 + p4 - p3)/2\n",
        "\n",
        "        dr = 0.0 \n",
        "        Mu[:,i*3] = p1\n",
        "        Mu[:,i*3+3] = p4\n",
        "        Mu[:,i*3+1] = p2 + d*dr #- d1*dr\n",
        "        Mu[:,i*3+2] =  p3 + d*dr #- d2*dr\n",
        "\n",
        "        sigma = np.eye(2)\n",
        "        Sigma[:,:,i*3]   = sigma\n",
        "        Sigma[:,:,i*3+1] = np.eye(2)*ctrl_ratio\n",
        "        Sigma[:,:,i*3+2] = np.eye(2)*ctrl_ratio\n",
        "        Sigma[:,:,i*3+3] = sigma\n",
        "        \n",
        "    MuQ, Q = make_reference(Mu, Sigma, n, sys, reference=stepwise, end_weight=1e10)\n",
        "\n",
        "    r = SHM_r(max_d, order, T, m)\n",
        "    \n",
        "    x = iterative_mpc(sys, MuQ, Q, r=r) \n",
        "    y = sys.y(x)\n",
        "    return y, Mu, Sigma\n",
        "\n",
        "plt.figure(figsize=(cfg.fig_w*2, cfg.fig_h))\n",
        "# Plot Bezier and MPC overlaid\n",
        "plt.subplot(1, 2, 1)\n",
        "plot_control_polygon(Cp)\n",
        "y, Mu, Sigma = mpc_bezier_stepwise(Cp, \n",
        "                                   order=4, \n",
        "                                   ctrl_ratio=2.0, \n",
        "                                   max_d=0.01)\n",
        "plot_gauss(Mu, Sigma, scale=100.)\n",
        "plt.plot(y[0,:], y[1,:], 'k', label='MPC')\n",
        "plt.plot(yb[0,:], yb[1,:], 'r', linewidth=1.5, label='Bezier')\n",
        "plt_setup()\n",
        "\n",
        "plt.subplot(1, 2, 2)\n",
        "# compute speed and normalize\n",
        "S = norm(deriv(y, 0.01, 1))\n",
        "Sb = norm(deriv(yb, 0.01, 1))\n",
        "S = S/np.max(S)\n",
        "Sb = Sb/np.max(Sb)\n",
        "plt.plot(np.linspace(0, 1., S.shape[0]), S, 'k')\n",
        "plt.plot(np.linspace(0, 1., Sb.shape[0]), Sb, 'r', linewidth=1.5)\n",
        "plt.gca().set_xlabel('normalized time')\n",
        "plt.gca().set_ylabel('normalized speed')\n",
        "plt.show()"
      ],
      "execution_count": null,
      "outputs": []
    },
    {
      "cell_type": "markdown",
      "metadata": {
        "id": "yJ2AY1SMKUoA",
        "colab_type": "text"
      },
      "source": [
        "## Interpolation with MPC\n",
        "The same optimisation method can be used to generate interpolating trajectories (passing through via-points). To do so, we define a sparse reference, in which a desired state in only specified in correspondence with its desired time step. For the case in which the time occurrence of the states is equally spaced in time we can define a new reference function:"
      ]
    },
    {
      "cell_type": "code",
      "metadata": {
        "id": "zFzdc6vPKogZ",
        "colab_type": "code",
        "colab": {
          "base_uri": "https://localhost:8080/",
          "height": 60
        },
        "outputId": "de59176d-951b-4557-e662-8593fe24ef73"
      },
      "source": [
        "def via_points(m, n):\n",
        "    ''' Get via-point reference indices\n",
        "    returns target indices, and corresponding time steps in reference for each index'''\n",
        "    a, b = 0., n-1\n",
        "    return range(m), [ int(a + i*(b-a)/(m-1)) for i in range(m) ]\n",
        "\n",
        "# For 30 time steps and 3 via points:\n",
        "Ts = -np.ones(30).astype(int)\n",
        "I, T = via_points(3, 30)\n",
        "Ts[T] = I\n",
        "\n",
        "plt.figure(figsize=(14,0.5))\n",
        "plt.gca().pcolormesh([[ float(t)/3+0.5 if t >= 0 else 0 for t in Ts]], cmap='Spectral', edgecolor='k', vmin=-1., vmax=1.)\n",
        "for i, t in enumerate(Ts):\n",
        "    if t >= 0:\n",
        "        plt.text(0.4 + i, 0.5,str(t))\n",
        "plt.axis('off')\n",
        "plt.show()"
      ],
      "execution_count": 24,
      "outputs": [
        {
          "output_type": "display_data",
          "data": {
            "image/png": "[encoded data removed]",
            "text/plain": [
              "<Figure size 1008x36 with 1 Axes>"
            ]
          },
          "metadata": {
            "tags": []
          }
        }
      ]
    },
    {
      "cell_type": "markdown",
      "metadata": {
        "id": "mKLbZfuIKxr4",
        "colab_type": "text"
      },
      "source": [
        "We then express the penality of deviating from a desired state with an indentity covariance matrix, which corresponds to a cost given by the Euclidean distance to a target."
      ]
    },
    {
      "cell_type": "code",
      "metadata": {
        "id": "jLjR7riKKybF",
        "colab_type": "code",
        "colab": {}
      },
      "source": [
        "def load_and_interpolate(path, order, stroke_duration=0.3, scale=1./100000):\n",
        "    Mu, Sigma = load_gauss(path, scale=scale) \n",
        "    duration = Mu.shape[1]*stroke_duration\n",
        "    sys = DynSys(order, dt=0.005)\n",
        "    n = sys.num_timesteps(duration)\n",
        "    \n",
        "    endw = 1.\n",
        "    r = 1e-10\n",
        "\n",
        "    MuQ, Q = make_reference(Mu, Sigma, n, sys, reference=via_points, end_weight=endw) #1e-15) #0.)\n",
        "    x = iterative_mpc(sys, MuQ, Q, r=r)\n",
        "    \n",
        "    return Mu, Sigma, sys.y(x) \n",
        "    \n",
        "dt = 0.005\n",
        "orders = range(2,6)\n",
        "\n",
        "plt.figure(figsize=(cfg.fig_w*len(orders), cfg.fig_h))\n",
        "for i,order in enumerate(orders):\n",
        "    plt.subplot(1, len(orders), i+1)\n",
        "    plt.title('$n=' + str(order) + '$')\n",
        "    Mu, Sigma, x = load_and_interpolate('e.pkl', order)\n",
        "    plt.plot(Mu[0,:], Mu[1,:], ':', color=cfg.plan_color, linewidth=1.)\n",
        "    plt.plot(Mu[0,:], Mu[1,:], 'o', color=[0,0.5,1.], linewidth=1.)\n",
        "    plt.plot(x[0,:], x[1,:], 'k')\n",
        "    plt_setup()\n",
        "\n",
        "plt.show()"
      ],
      "execution_count": null,
      "outputs": []
    },
    {
      "cell_type": "markdown",
      "metadata": {
        "id": "xgLtCi9QLGrI",
        "colab_type": "text"
      },
      "source": [
        "The MJ (\"minimum jerk\")trajectory has a closed form solution given by a polynomial of order \\(5\\), which can be computed with the following function\n",
        "\n"
      ]
    },
    {
      "cell_type": "code",
      "metadata": {
        "id": "qhjqNy6LLKo3",
        "colab_type": "code",
        "colab": {}
      },
      "source": [
        "def min_jerk_via( x0,x1,xf, t, t1, tf ):\n",
        "    tau1 = t1 / tf\n",
        "    tau = t / tf\n",
        "    tf5 = tf**5\n",
        "    ta2 = tau**2 \n",
        "    ta3 = tau**3\n",
        "    ta4 = tau**4\n",
        "    ta5 = tau**5\n",
        "    ta1_2 = tau1**2 \n",
        "    ta1_3 = tau1**3\n",
        "    ta1_4 = tau1**4\n",
        "    ta1_5 = tau1**5\n",
        "    \n",
        "    c = ( (1 / (tf5*ta1_2*(1 - tau1)**5)) * ((xf - x0)*(300.*ta1_5 - 1200.*ta1_4 + 1600.*ta1_3)\n",
        "        + ta1_2*(-720.*xf + 120.*x1 + 600.*x0) \n",
        "            + (x0 - x1)*(300*tau1 - 200)))\n",
        "    \n",
        "    p = ( (1 / (tf5*ta1_5*(1 - tau1)**5)) * ((xf - x0)*(120*ta1_5 \n",
        "            - 300.*ta1_4 + 200.*ta1_3) - 20*(x1 - x0)))\n",
        "            \n",
        "    x = ((tf5/720.) * (p*(ta1_4*(15.*ta4 - 30.*ta3) \n",
        "    + ta1_3*(80.*ta3 - 30.*ta4) - 60.*ta3*ta1_2 + 30.*ta4*tau1 - 6.*ta5)\n",
        "                  + c*(15.*ta4 - 10.*ta3 - 6.*ta5)) + x0)\n",
        "    if t > t1:\n",
        "        x = x + p * ( tf5 * (tau - tau1)**5 ) / 120.\n",
        "    return x"
      ],
      "execution_count": 26,
      "outputs": []
    },
    {
      "cell_type": "markdown",
      "metadata": {
        "id": "HKVfpVwGLOOe",
        "colab_type": "text"
      },
      "source": [
        "The time occurrence of the via point is given by the real root of a \\(9\\mathrm{th}\\) order polynomial, which we use SymPy to compute"
      ]
    },
    {
      "cell_type": "code",
      "metadata": {
        "id": "BjVUP0oILQ4A",
        "colab_type": "code",
        "colab": {}
      },
      "source": [
        "import sympy as sym\n",
        "def solve_tau1(X):\n",
        "    vals = sym.symbols('x_0, y_0, x_1, y_1, x_f, y_f', real=True)\n",
        "    x_0, y_0, x_1, y_1, x_f, y_f = vals\n",
        "    v = [X[0,0], X[1,0], X[0,1], X[1,1], X[0,2], X[1,2]]\n",
        "    tau_1 = sym.symbols('tau_1', real=True)\n",
        "    # quite a beast...\n",
        "    poly = 6*tau_1**9*x_0**2 - 12*tau_1**9*x_0*x_f + 6*tau_1**9*x_f**2 + 6*tau_1**9*y_0**2 \\\n",
        "           - 12*tau_1**9*y_0*y_f + 6*tau_1**9*y_f**2 - 27*tau_1**8*x_0**2 + 54*tau_1**8*x_0*x_f \\\n",
        "           - 27*tau_1**8*x_f**2 - 27*tau_1**8*y_0**2 + 54*tau_1**8*y_0*y_f - 27*tau_1**8*y_f**2 \\\n",
        "           + 40*tau_1**7*x_0**2 - 80*tau_1**7*x_0*x_f + 40*tau_1**7*x_f**2 + 40*tau_1**7*y_0**2 \\\n",
        "           - 80*tau_1**7*y_0*y_f + 40*tau_1**7*y_f**2 - 8*tau_1**6*x_0**2 - 12*tau_1**6*x_0*x_1 \\\n",
        "           + 28*tau_1**6*x_0*x_f + 12*tau_1**6*x_1*x_f - 20*tau_1**6*x_f**2 - 8*tau_1**6*y_0**2 \\\n",
        "           - 12*tau_1**6*y_0*y_1 + 28*tau_1**6*y_0*y_f + 12*tau_1**6*y_1*y_f - 20*tau_1**6*y_f**2 \\\n",
        "           - 36*tau_1**5*x_0**2 + 36*tau_1**5*x_0*x_1 + 36*tau_1**5*x_0*x_f - 36*tau_1**5*x_1*x_f \\\n",
        "           - 36*tau_1**5*y_0**2 + 36*tau_1**5*y_0*y_1 + 36*tau_1**5*y_0*y_f - 36*tau_1**5*y_1*y_f \\\n",
        "           + 34*tau_1**4*x_0**2 - 34*tau_1**4*x_0*x_1 - 34*tau_1**4*x_0*x_f + 34*tau_1**4*x_1*x_f \\\n",
        "           + 34*tau_1**4*y_0**2 - 34*tau_1**4*y_0*y_1 - 34*tau_1**4*y_0*y_f + 34*tau_1**4*y_1*y_f \\\n",
        "           - 8*tau_1**3*x_0**2 + 8*tau_1**3*x_0*x_1 + 8*tau_1**3*x_0*x_f - 8*tau_1**3*x_1*x_f \\\n",
        "           - 8*tau_1**3*y_0**2 + 8*tau_1**3*y_0*y_1 + 8*tau_1**3*y_0*y_f - 8*tau_1**3*y_1*y_f \\\n",
        "           - 2*tau_1*x_0**2 + 4*tau_1*x_0*x_1 - 2*tau_1*x_1**2 - 2*tau_1*y_0**2 + 4*tau_1*y_0*y_1 \\\n",
        "           - 2*tau_1*y_1**2 + x_0**2 - 2*x_0*x_1 + x_1**2 + y_0**2 - 2*y_0*y_1 + y_1**2\n",
        "    eval_poly = poly.subs(dict(zip(vals,v)))\n",
        "    expr = (sym.expand(eval_poly.as_expr()))\n",
        "    realroot = sym.nsolve(expr, 0.5) \n",
        "    return float(realroot)\n",
        "\n",
        "def via_points_tau1(m, n, tau_1):\n",
        "    ''' Get via-point reference indices\n",
        "    returns target indices, and corresponding time steps in reference for each index'''\n",
        "    a, b = 0., n-1\n",
        "    I = range(m)\n",
        "    t1_n = int(tau_1*n)\n",
        "    T = [0, t1_n, n-1]\n",
        "    return I, T #range(m), [ int(a + i*(b-a)/(m-1)) for i in range(m) ]"
      ],
      "execution_count": 27,
      "outputs": []
    },
    {
      "cell_type": "markdown",
      "metadata": {
        "id": "w16N4BLgLXMs",
        "colab_type": "text"
      },
      "source": [
        "We then can compare the MPC solution to the original closed form solution\n",
        "\n"
      ]
    },
    {
      "cell_type": "code",
      "metadata": {
        "id": "JJJc6iJFLZKH",
        "colab_type": "code",
        "colab": {}
      },
      "source": [
        "def rel_err(x, x_hat):\n",
        "    '''Relative error [0-1]'''\n",
        "    e = (np.sum(np.abs(x-x_hat)) / np.sum(x_hat)) / len(x_hat)\n",
        "    return e\n",
        "\n",
        "\n",
        "sys = DynSys(3, 0.005)\n",
        "duration = 2.\n",
        "n = sys.num_timesteps(duration)\n",
        "\n",
        "# MPC trajectory\n",
        "plt.rc('text', usetex = False)\n",
        "m = 3\n",
        "np.random.seed(123)\n",
        "Mu = np.floor(np.random.uniform(-100, 100, size=(2, m)))\n",
        "Sigma = np.dstack([np.eye(2,2) for i in range(m)])\n",
        "\n",
        "# Solve for via point relative time\n",
        "tau_1 = solve_tau1(Mu)\n",
        "\n",
        "MuQ, Q = make_reference(Mu, Sigma, n, sys, reference=lambda m,n: via_points_tau1(m, n, tau_1), end_weight=1.)\n",
        "x = iterative_mpc(sys, MuQ, Q, r=1e-10)\n",
        "y = sys.y(x)\n",
        "\n",
        "# time steps\n",
        "T = np.linspace(0, duration, n)\n",
        "\n",
        "# Minimum jerk trajectory\n",
        "yj = np.array([ min_jerk_via(Mu[:,0], Mu[:,1], Mu[:,2], t, tau_1*duration, duration) for t in T]).T\n",
        "\n",
        "plt.figure(figsize=(cfg.fig_w*2, 1.3*cfg.fig_h)) #(15,5))\n",
        "vmargin = 0.4\n",
        "plt.subplots_adjust(hspace=vmargin) #, top=vmargin+2.)\n",
        "plt.subplot2grid((2, 2), (0,0), rowspan=2)\n",
        "plt.plot(Mu[0,:], Mu[1,:], ':', color=cfg.plan_color, linewidth=1.)\n",
        "plt.plot(Mu[0,:], Mu[1,:], 'o', color=[0,0.5,1.])\n",
        "plt.plot(Mu[0,0:1], Mu[1,0:1], 'ro') #, color=[0,0.5,1.])\n",
        "plt.plot(y[0,:], y[1,:], 'k', label='MPC')\n",
        "plt.plot(yj[0,:], yj[1,:], 'r', label='MJ', linewidth=1.5)\n",
        "\n",
        "plt_setup()\n",
        "plt.legend()\n",
        "\n",
        "# Speed error\n",
        "plt.subplot2grid((2, 2), (0,1))\n",
        "#plt.title('Speed')\n",
        "S = norm(deriv(y, sys.dt, 1))\n",
        "Sj = norm(deriv(yj, sys.dt, 1))\n",
        "# size hack for time\n",
        "T = np.linspace(0, duration, len(Sj))\n",
        "err = rel_err(S, Sj)\n",
        "errstr = ('%.3f'%(err*100)) + '%'\n",
        "plt.plot(T, S, 'k')\n",
        "plt.plot(T, Sj, 'r', linewidth=1.5)\n",
        "plt.text(2.0, 130, 'Speed rel. error: ' + errstr, horizontalalignment='right')\n",
        "plt.gca().set_xlabel('$t$')\n",
        "plt.gca().set_ylabel(r'$\\left\\| \\dot{x} \\right\\|$')\n",
        "\n",
        "# Jerk error\n",
        "plt.subplot2grid((2, 2), (1,1))\n",
        "#plt.title('Jerk')\n",
        "S = norm(deriv(y, sys.dt, 3))[1:]\n",
        "Sj = norm(deriv(yj, sys.dt, 3))[1:]\n",
        "# size hack for time\n",
        "T = np.linspace(0, duration, len(Sj))\n",
        "err = rel_err(S, Sj)\n",
        "errstr = ('%.3f'%(err*100)) + '%'\n",
        "plt.plot(T, Sj, 'r')\n",
        "plt.plot(T, S, 'k')\n",
        "plt.text(2., 2500.0, 'Jerk rel. error: ' + errstr, horizontalalignment='right')\n",
        "plt.gca().set_xlabel(r'$t$')\n",
        "plt.gca().set_ylabel(r'$\\left\\| \\dot\\ddot{x} \\right\\|$')\n",
        "\n",
        "# Save and show\n",
        "plt.savefig('mj.pdf')\n",
        "plt.show()\n"
      ],
      "execution_count": null,
      "outputs": []
    },
    {
      "cell_type": "markdown",
      "metadata": {
        "id": "zialeKczLkWi",
        "colab_type": "text"
      },
      "source": [
        "## Stylisation and Semi-tied Gaussians\n",
        "f we look at the proposed optimal control formulation of trajectories for the case of letter forms, we can consider different stylisations of a letter with a bi level representation, in which the sequence of targets defines an overall structure, and different trajectories that follow Gaussians placed in correspondence with the targets define different stylisations of the same structure. This representation is similar to the one proposed by semiotician William C. Watt [Watt1988]. Watt used formal grammars to study the evolution of written letters in history through two complemtary descriptors: one iconic that describes the letter form as a symbol, and one kinemic that describes the movements used to produce the letter when writing. We can exploit a similar framework to generate different stylisation of letters defined as sparse sequneces of targets.\n",
        "\n",
        "As an example we can take the target description of a letter \"N\". We can for example generate different stylisations of the letter by varying the maximum displacement parameter \\(d\\), where a lower value of \\(d\\) will produce smoother trajectories. Watt calls this process \"facilitation\", i.e. the tendency to produce a letter form with a reduced effort, whic results in smoother traces."
      ]
    },
    {
      "cell_type": "code",
      "metadata": {
        "id": "g_R4jWvELpf0",
        "colab_type": "code",
        "colab": {}
      },
      "source": [
        "Mu, Sigma = load_gauss('./n.pkl', scale=0.01) \n",
        "\n",
        "order = 5\n",
        "duration = Mu.shape[1]*0.2 # 0.2 seconds per state\n",
        "sys = DynSys(order, dt=0.005)\n",
        "n = sys.num_timesteps(duration)\n",
        "endw = 1e10\n",
        "\n",
        "plt.figure(figsize=cfg.figsize)\n",
        "plot_gauss(Mu, Sigma)\n",
        "plt.plot(Mu[0,:], Mu[1,:], ':', color=cfg.plan_color, linewidth=1.)\n",
        "\n",
        "for d in np.linspace(0.2, 0.6, 4):\n",
        "  r = SHM_r(d, order, duration, Mu.shape[1])\n",
        "  MuQ, Q = make_reference(Mu, Sigma, n, sys, reference=stepwise, end_weight=1e10) #1e-15) #0.)\n",
        "  x = iterative_mpc(sys, MuQ, Q, r=r)\n",
        "  y = sys.y(x)\n",
        "  plt.plot(y[0,:], y[1,:], 'k', linewidth=0.5)\n",
        "plt_setup()\n",
        "plt.show()"
      ],
      "execution_count": null,
      "outputs": []
    },
    {
      "cell_type": "markdown",
      "metadata": {
        "id": "NI-1pfdRLwQQ",
        "colab_type": "text"
      },
      "source": [
        "Other stylistic variations can be produced by varying other parameters, such as the orientation and scale of the covariances corresponding with each target. If we try to randomly generate covariances for each target, we can see that this process may be actually hard to control and often produce unpredictable results:"
      ]
    },
    {
      "cell_type": "code",
      "metadata": {
        "id": "orxu36msLw-Y",
        "colab_type": "code",
        "colab": {}
      },
      "source": [
        "def make_sigma(theta, scale):\n",
        "    ''' Builds a 2d covariance with a rotation and scale'''\n",
        "    scale=np.array(scale)\n",
        "    \n",
        "    # rotation matrix\n",
        "    Phi = np.eye(2, 2)\n",
        "    ct = np.cos(theta)\n",
        "    st = np.sin(theta)\n",
        "    Phi[0,0], Phi[0,1] = ct, -st\n",
        "    Phi[1,0], Phi[1,1] = st, ct\n",
        "    \n",
        "    # scale matrix\n",
        "    S = np.diag(scale*scale) \n",
        "    return mul([Phi, S, Phi.T])\n",
        "\n",
        "# Fix the seed for demonstration purposes\n",
        "np.random.seed(326)\n",
        "n_rows = 3\n",
        "n_cols = 5\n",
        "nsamples = n_rows*n_cols\n",
        "plt.figure(figsize=(3*n_cols, 3*n_rows))\n",
        "\n",
        "for i in range(nsamples):\n",
        "    plt.subplot(n_rows, n_cols, i+1)\n",
        "    Sigma2 = np.array(Sigma)\n",
        "    for j in range(Mu.shape[1]):\n",
        "        s = np.random.uniform(0.1, 0.9)\n",
        "        Sigma2[:,:,j] = make_sigma(np.random.uniform(-np.pi, np.pi),\n",
        "                                    [s, s*np.random.uniform(0.1, 0.2)]) #np.random.uniform(0.02, 0.5, 2))\n",
        "\n",
        "    plot_gauss(Mu, Sigma2)\n",
        "    plt.plot(Mu[0,:], Mu[1,:], ':', color=cfg.plan_color, linewidth=1.)\n",
        "\n",
        "    r = SHM_r(0.3, order, duration, Mu.shape[1])\n",
        "    MuQ, Q = make_reference(Mu, Sigma2, n, sys, reference=stepwise, end_weight=1e10) #1e-15) #0.)\n",
        "    x = iterative_mpc(sys, MuQ, Q, r=r)\n",
        "    y = sys.y(x)\n",
        "    plt.plot(y[0,:], y[1,:], 'k', linewidth=2)\n",
        "    plt_setup(axis=False)\n",
        "plt.show()"
      ],
      "execution_count": null,
      "outputs": []
    },
    {
      "cell_type": "markdown",
      "metadata": {
        "id": "KYpGeBb_L0An",
        "colab_type": "text"
      },
      "source": [
        "One way to overcome this problem and maintain a greater control over the results, is to force a shared orientation for all the covariance ellipsoids"
      ]
    },
    {
      "cell_type": "code",
      "metadata": {
        "id": "KLa8DcuUL20-",
        "colab_type": "code",
        "colab": {}
      },
      "source": [
        "n_rows = 3\n",
        "n_cols = 5\n",
        "nsamples = n_rows*n_cols\n",
        "plt.figure(figsize=(3*n_cols, 3*n_rows))\n",
        "Theta = np.random.uniform(-np.pi, np.pi, nsamples)\n",
        "np.random.seed(326)\n",
        "for i in range(nsamples):\n",
        "    plt.subplot(n_rows, n_cols, i+1)\n",
        "    Sigma2 = np.array(Sigma)\n",
        "    \n",
        "    for j in range(Mu.shape[1]):\n",
        "        s = np.random.uniform(0.1, 0.9)\n",
        "        np.random.uniform(-np.pi, np.pi) # Just to keep the same seed\n",
        "        Sigma2[:,:,j] = make_sigma(Theta[i],\n",
        "                                   [s, s*np.random.uniform(0.1, 0.2)]) #np.random.uniform(0.02, 0.5, 2))\n",
        "\n",
        "    plot_gauss(Mu, Sigma2)\n",
        "    plt.plot(Mu[0,:], Mu[1,:], ':', color=cfg.plan_color, linewidth=1.)\n",
        "\n",
        "    r = SHM_r(0.3, order, duration, Mu.shape[1])\n",
        "    MuQ, Q = make_reference(Mu, Sigma2, n, sys, reference=stepwise, end_weight=1e10) #1e-15) #0.)\n",
        "    x = iterative_mpc(sys, MuQ, Q, r=r)\n",
        "    y = sys.y(x)\n",
        "    plt.plot(y[0,:], y[1,:], 'k', linewidth=2)\n",
        "    plt_setup(axis=False)\n",
        "plt.show()"
      ],
      "execution_count": null,
      "outputs": []
    }
  ]
}